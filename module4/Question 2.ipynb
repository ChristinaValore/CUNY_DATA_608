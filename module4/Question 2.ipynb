{
 "cells": [
  {
   "cell_type": "markdown",
   "metadata": {},
   "source": [
    "### Question 2: Are stewards (steward activity measured by the ‘steward’ variable) having an impact on the health of trees?"
   ]
  },
  {
   "cell_type": "code",
   "execution_count": 1,
   "metadata": {},
   "outputs": [],
   "source": [
    "import pandas as pd \n",
    "import numpy as np\n",
    "import datetime\n",
    "import dash\n",
    "import dash_core_components as dcc\n",
    "import dash_html_components as html\n",
    "from dash.dependencies import Input, Output\n",
    "import plotly.graph_objs as go"
   ]
  },
  {
   "cell_type": "code",
   "execution_count": 2,
   "metadata": {},
   "outputs": [
    {
     "data": {
      "text/plain": [
       "array(['None', '1or2', '3or4', nan, '4orMore'], dtype=object)"
      ]
     },
     "execution_count": 2,
     "metadata": {},
     "output_type": "execute_result"
    }
   ],
   "source": [
    "url = 'https://data.cityofnewyork.us/resource/nwxe-4ae8.json'\n",
    "trees = pd.read_json(url)\n",
    "trees.steward.unique()"
   ]
  },
  {
   "cell_type": "code",
   "execution_count": 3,
   "metadata": {
    "scrolled": true
   },
   "outputs": [
    {
     "data": {
      "text/html": [
       "<div>\n",
       "<style scoped>\n",
       "    .dataframe tbody tr th:only-of-type {\n",
       "        vertical-align: middle;\n",
       "    }\n",
       "\n",
       "    .dataframe tbody tr th {\n",
       "        vertical-align: top;\n",
       "    }\n",
       "\n",
       "    .dataframe thead th {\n",
       "        text-align: right;\n",
       "    }\n",
       "</style>\n",
       "<table border=\"1\" class=\"dataframe\">\n",
       "  <thead>\n",
       "    <tr style=\"text-align: right;\">\n",
       "      <th></th>\n",
       "      <th>health</th>\n",
       "      <th>count_tree_id</th>\n",
       "    </tr>\n",
       "  </thead>\n",
       "  <tbody>\n",
       "    <tr>\n",
       "      <td>0</td>\n",
       "      <td>Fair</td>\n",
       "      <td>71572</td>\n",
       "    </tr>\n",
       "    <tr>\n",
       "      <td>1</td>\n",
       "      <td>Good</td>\n",
       "      <td>396511</td>\n",
       "    </tr>\n",
       "    <tr>\n",
       "      <td>2</td>\n",
       "      <td>Poor</td>\n",
       "      <td>19739</td>\n",
       "    </tr>\n",
       "  </tbody>\n",
       "</table>\n",
       "</div>"
      ],
      "text/plain": [
       "  health  count_tree_id\n",
       "0   Fair          71572\n",
       "1   Good         396511\n",
       "2   Poor          19739"
      ]
     },
     "execution_count": 3,
     "metadata": {},
     "output_type": "execute_result"
    }
   ],
   "source": [
    "soql_url = ('https://data.cityofnewyork.us/resource/nwxe-4ae8.json?' +\\\n",
    "        '$select=health,count(tree_id)' +\\\n",
    "        '&$where=steward=\\'None\\'' +\\\n",
    "        '&$group=health').replace(' ', '%20')\n",
    "soql_url_none = pd.read_json(soql_url)\n",
    "soql_url_none.dropna()"
   ]
  },
  {
   "cell_type": "code",
   "execution_count": 4,
   "metadata": {},
   "outputs": [
    {
     "data": {
      "text/html": [
       "<div>\n",
       "<style scoped>\n",
       "    .dataframe tbody tr th:only-of-type {\n",
       "        vertical-align: middle;\n",
       "    }\n",
       "\n",
       "    .dataframe tbody tr th {\n",
       "        vertical-align: top;\n",
       "    }\n",
       "\n",
       "    .dataframe thead th {\n",
       "        text-align: right;\n",
       "    }\n",
       "</style>\n",
       "<table border=\"1\" class=\"dataframe\">\n",
       "  <thead>\n",
       "    <tr style=\"text-align: right;\">\n",
       "      <th></th>\n",
       "      <th>health</th>\n",
       "      <th>count_tree_id</th>\n",
       "    </tr>\n",
       "  </thead>\n",
       "  <tbody>\n",
       "    <tr>\n",
       "      <td>0</td>\n",
       "      <td>Good</td>\n",
       "      <td>115372</td>\n",
       "    </tr>\n",
       "    <tr>\n",
       "      <td>1</td>\n",
       "      <td>Fair</td>\n",
       "      <td>21902</td>\n",
       "    </tr>\n",
       "    <tr>\n",
       "      <td>2</td>\n",
       "      <td>Poor</td>\n",
       "      <td>6283</td>\n",
       "    </tr>\n",
       "  </tbody>\n",
       "</table>\n",
       "</div>"
      ],
      "text/plain": [
       "  health  count_tree_id\n",
       "0   Good         115372\n",
       "1   Fair          21902\n",
       "2   Poor           6283"
      ]
     },
     "execution_count": 4,
     "metadata": {},
     "output_type": "execute_result"
    }
   ],
   "source": [
    "soql_url = ('https://data.cityofnewyork.us/resource/nwxe-4ae8.json?' +\\\n",
    "        '$select=health,count(tree_id)' +\\\n",
    "        '&$where=steward=\\'1or2\\'' +\\\n",
    "        '&$group=health').replace(' ', '%20')\n",
    "soql_url_1or2 = pd.read_json(soql_url)\n",
    "soql_url_1or2.dropna()"
   ]
  },
  {
   "cell_type": "code",
   "execution_count": 5,
   "metadata": {},
   "outputs": [
    {
     "data": {
      "text/html": [
       "<div>\n",
       "<style scoped>\n",
       "    .dataframe tbody tr th:only-of-type {\n",
       "        vertical-align: middle;\n",
       "    }\n",
       "\n",
       "    .dataframe tbody tr th {\n",
       "        vertical-align: top;\n",
       "    }\n",
       "\n",
       "    .dataframe thead th {\n",
       "        text-align: right;\n",
       "    }\n",
       "</style>\n",
       "<table border=\"1\" class=\"dataframe\">\n",
       "  <thead>\n",
       "    <tr style=\"text-align: right;\">\n",
       "      <th></th>\n",
       "      <th>health</th>\n",
       "      <th>count_tree_id</th>\n",
       "    </tr>\n",
       "  </thead>\n",
       "  <tbody>\n",
       "    <tr>\n",
       "      <td>0</td>\n",
       "      <td>Good</td>\n",
       "      <td>15606</td>\n",
       "    </tr>\n",
       "    <tr>\n",
       "      <td>1</td>\n",
       "      <td>Poor</td>\n",
       "      <td>747</td>\n",
       "    </tr>\n",
       "    <tr>\n",
       "      <td>2</td>\n",
       "      <td>Fair</td>\n",
       "      <td>2830</td>\n",
       "    </tr>\n",
       "  </tbody>\n",
       "</table>\n",
       "</div>"
      ],
      "text/plain": [
       "  health  count_tree_id\n",
       "0   Good          15606\n",
       "1   Poor            747\n",
       "2   Fair           2830"
      ]
     },
     "execution_count": 5,
     "metadata": {},
     "output_type": "execute_result"
    }
   ],
   "source": [
    "soql_url = ('https://data.cityofnewyork.us/resource/nwxe-4ae8.json?' +\\\n",
    "        '$select=health,count(tree_id)' +\\\n",
    "        '&$where=steward=\\'3or4\\'' +\\\n",
    "        '&$group=health').replace(' ', '%20')\n",
    "soql_url_3or4 = pd.read_json(soql_url)\n",
    "soql_url_3or4.dropna()"
   ]
  },
  {
   "cell_type": "code",
   "execution_count": 6,
   "metadata": {},
   "outputs": [
    {
     "data": {
      "text/html": [
       "<div>\n",
       "<style scoped>\n",
       "    .dataframe tbody tr th:only-of-type {\n",
       "        vertical-align: middle;\n",
       "    }\n",
       "\n",
       "    .dataframe tbody tr th {\n",
       "        vertical-align: top;\n",
       "    }\n",
       "\n",
       "    .dataframe thead th {\n",
       "        text-align: right;\n",
       "    }\n",
       "</style>\n",
       "<table border=\"1\" class=\"dataframe\">\n",
       "  <thead>\n",
       "    <tr style=\"text-align: right;\">\n",
       "      <th></th>\n",
       "      <th>health</th>\n",
       "      <th>count_tree_id</th>\n",
       "    </tr>\n",
       "  </thead>\n",
       "  <tbody>\n",
       "    <tr>\n",
       "      <td>0</td>\n",
       "      <td>Good</td>\n",
       "      <td>1361</td>\n",
       "    </tr>\n",
       "    <tr>\n",
       "      <td>1</td>\n",
       "      <td>Fair</td>\n",
       "      <td>200</td>\n",
       "    </tr>\n",
       "    <tr>\n",
       "      <td>2</td>\n",
       "      <td>Poor</td>\n",
       "      <td>49</td>\n",
       "    </tr>\n",
       "  </tbody>\n",
       "</table>\n",
       "</div>"
      ],
      "text/plain": [
       "  health  count_tree_id\n",
       "0   Good           1361\n",
       "1   Fair            200\n",
       "2   Poor             49"
      ]
     },
     "execution_count": 6,
     "metadata": {},
     "output_type": "execute_result"
    }
   ],
   "source": [
    "soql_url = ('https://data.cityofnewyork.us/resource/nwxe-4ae8.json?' +\\\n",
    "        '$select=health,count(tree_id)' +\\\n",
    "        '&$where=steward=\\'4orMore\\'' +\\\n",
    "        '&$group=health').replace(' ', '%20')\n",
    "soql_url_4orMore = pd.read_json(soql_url)\n",
    "soql_url_4orMore.dropna()"
   ]
  },
  {
   "cell_type": "code",
   "execution_count": null,
   "metadata": {},
   "outputs": [
    {
     "name": "stdout",
     "output_type": "stream",
     "text": [
      " * Serving Flask app \"__main__\" (lazy loading)\n",
      " * Environment: production\n",
      "   WARNING: This is a development server. Do not use it in a production deployment.\n",
      "   Use a production WSGI server instead.\n",
      " * Debug mode: off\n"
     ]
    },
    {
     "name": "stderr",
     "output_type": "stream",
     "text": [
      " * Running on http://127.0.0.1:8050/ (Press CTRL+C to quit)\n",
      "127.0.0.1 - - [28/Oct/2019 23:25:12] \"GET / HTTP/1.1\" 200 -\n",
      "127.0.0.1 - - [28/Oct/2019 23:25:12] \"GET /_dash-component-suites/dash_core_components/highlight.pack.js?v=1.3.1&m=1572224843 HTTP/1.1\" 200 -\n",
      "127.0.0.1 - - [28/Oct/2019 23:25:12] \"GET /_dash-component-suites/dash_renderer/react-dom@16.8.6.min.js?v=1.1.2&m=1572224843 HTTP/1.1\" 200 -\n",
      "127.0.0.1 - - [28/Oct/2019 23:25:12] \"GET /_dash-component-suites/dash_html_components/dash_html_components.min.js?v=1.0.1&m=1572224844 HTTP/1.1\" 200 -\n",
      "127.0.0.1 - - [28/Oct/2019 23:25:12] \"GET /_dash-component-suites/dash_renderer/prop-types@15.7.2.min.js?v=1.1.2&m=1572224843 HTTP/1.1\" 200 -\n",
      "127.0.0.1 - - [28/Oct/2019 23:25:12] \"GET /_dash-component-suites/dash_renderer/react@16.8.6.min.js?v=1.1.2&m=1572224843 HTTP/1.1\" 200 -\n",
      "127.0.0.1 - - [28/Oct/2019 23:25:12] \"GET /_dash-component-suites/dash_renderer/dash_renderer.min.js?v=1.1.2&m=1572224843 HTTP/1.1\" 200 -\n",
      "127.0.0.1 - - [28/Oct/2019 23:25:12] \"GET /_dash-component-suites/dash_core_components/dash_core_components.min.js?v=1.3.1&m=1572224843 HTTP/1.1\" 200 -\n",
      "127.0.0.1 - - [28/Oct/2019 23:25:13] \"GET /_dash-component-suites/dash_core_components/plotly-1.50.1.min.js?v=1.3.1&m=1572224843 HTTP/1.1\" 200 -\n",
      "127.0.0.1 - - [28/Oct/2019 23:25:13] \"GET /_dash-dependencies HTTP/1.1\" 200 -\n",
      "127.0.0.1 - - [28/Oct/2019 23:25:13] \"GET /_dash-layout HTTP/1.1\" 200 -\n"
     ]
    }
   ],
   "source": [
    "app = dash.Dash()\n",
    "\n",
    "colors = {'background':'D3D3D3', 'text':'#000000'}\n",
    "\n",
    "app.layout = html.Div(children=[\n",
    "\n",
    "    dcc.Graph(id='Graph',\n",
    "             figure={\n",
    "            'data': [\n",
    "                {'x': soql_url_none['health'], 'y':soql_url_none['count_tree_id'], 'type': 'bar', 'name': u'None'},\n",
    "                {'x': soql_url_1or2['health'], 'y':soql_url_1or2['count_tree_id'], 'type': 'bar', 'name': u'1 or 2'},\n",
    "                {'x': soql_url_3or4['health'], 'y':soql_url_3or4['count_tree_id'], 'type': 'bar', 'name': u'3 or 4'},\n",
    "                {'x': soql_url_4orMore['health'], 'y':soql_url_4orMore['count_tree_id'], 'type': 'bar', 'name': u'4 or more'}\n",
    "            ],\n",
    "            'layout': {\n",
    "                'title': 'NYC Tree Health Condition by Steward activity',\n",
    "                'plot_bgcolor':colors['background'],\n",
    "                'paper_bgcolor':colors['background'],\n",
    "                'font':{'color':colors['text']}\n",
    "                \n",
    "            }\n",
    "        }\n",
    "    )\n",
    "])\n",
    "\n",
    "\n",
    "if __name__ == '__main__':\n",
    "    app.run_server()"
   ]
  },
  {
   "cell_type": "markdown",
   "metadata": {},
   "source": [
    "##### Conclusion: Based on the graph it doesn't look like stewardship plays a large role as many of the good health trees have no stewards."
   ]
  }
 ],
 "metadata": {
  "kernelspec": {
   "display_name": "Python 3",
   "language": "python",
   "name": "python3"
  },
  "language_info": {
   "codemirror_mode": {
    "name": "ipython",
    "version": 3
   },
   "file_extension": ".py",
   "mimetype": "text/x-python",
   "name": "python",
   "nbconvert_exporter": "python",
   "pygments_lexer": "ipython3",
   "version": "3.7.4"
  }
 },
 "nbformat": 4,
 "nbformat_minor": 2
}
